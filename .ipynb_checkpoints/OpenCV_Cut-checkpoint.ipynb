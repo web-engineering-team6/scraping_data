{
 "cells": [
  {
   "cell_type": "markdown",
   "metadata": {},
   "source": [
    "http://qiita.com/Tama_maru/items/26a0509d2e30caa4a975\n",
    "\n",
    "http://qiita.com/daisukeokaoss/items/738566e9f24d114651ab\n",
    "\n",
    "http://qiita.com/wwacky/items/98d8be2844fa1b778323"
   ]
  },
  {
   "cell_type": "markdown",
   "metadata": {},
   "source": [
    "## MacBookへのOpenCVのインストール法 (これが最初大変だった)\n",
    "\n",
    "2016/6/17(日)　15日(木)夜からの苦戦の末、opencv3のインストールに成功。brewをつかう方法など色々参照したが分かりにくく、結局成功した手順は、pyenvで入れたAnacondaにインストールする方法。\n",
    "\n",
    "・Anaconda最新版(anaconda3-4.3.1)をpyenv介してMacBookにインストール。\n",
    "http://qiita.com/keitaMatsuo/items/900e549769484363fba2\n",
    "\n",
    "・OpenCV3が3.6以降に対応していないため、pythonは$conda install python=3.5.2で最新版(3.6-)よりダウングレード。\n",
    "http://nnamm.com/blog/1336\n",
    "\n",
    "・pyenvとAnacondaのactivateが衝突するので、下記ページ2.の方法で回避策。anacondaのversionは3-4.3.1にして設定。\n",
    "http://qiita.com/y__sama/items/f732bb7bec2bff355b69\n",
    "\n",
    "・そのうえで、仮想環境でopencv3インストール。http://nnamm.com/blog/1336\n",
    "$conda create -n py35opencv python=3.5 anaconda\n",
    "\n",
    "$source ~/.bashrc py35opencv (一つ上のメモ参照)\n",
    "\n",
    "$conda install --channel https://conda.anaconda.org/menpo opencv3\n",
    "\n",
    "$conda listでanacondaのパッケージとライブラリの一覧表示\n",
    "\n",
    "・デスクトップのAnaconda Navigatorアイコンからではなく、ターミナルからjupyter notebookと打って起動すると、cv3の入ったanacondaのJupyter Notebookが動く。試しに、$import cv2とすればopencv3が実行されること確認できる(opnecv3なのににimportはcv2であること注意)。\n",
    "\n",
    "・ちなみに「Macにpythonとanacondaの環境を構築してみる（pyenv,condaにて）」http://qiita.com/keitaMatsuo/items/900e549769484363fba2"
   ]
  },
  {
   "cell_type": "code",
   "execution_count": null,
   "metadata": {
    "collapsed": true
   },
   "outputs": [],
   "source": [
    "import cv2"
   ]
  },
  {
   "cell_type": "code",
   "execution_count": null,
   "metadata": {},
   "outputs": [],
   "source": [
    "import cv2#上記のOpenCVインストール実行後であれば走ること確認できる。\n",
    "img = cv2.imread('Lenna.png',0)\n",
    "cv2.imshow('img',img)\n",
    "cv2.waitKey(0)\n",
    "#上記実行するとLennaの写真が出る。Kernel から　Restart & Clear Outputとすると写真消せる。 "
   ]
  },
  {
   "cell_type": "code",
   "execution_count": null,
   "metadata": {
    "collapsed": true
   },
   "outputs": [],
   "source": [
    "import cv2#上記のOpenCVインストール実行後であれば走ること確認できる。\n",
    "img = cv2.imread('yoshinobu.jpg',1)\n",
    "cv2.imshow('img2',img)\n",
    "cv2.waitKey(0)\n",
    "#上記実行すると徳川慶喜の写真が出る。Kernel から　Restart & Clear Outputとすると写真消せる。 "
   ]
  },
  {
   "cell_type": "markdown",
   "metadata": {},
   "source": [
    "## 人物写真から顔画像の部分だけを四角で囲む\n",
    "\n",
    "顔探索用のカスケード型分類器のファイル\"haarcascade_frontalface_alt.xml\"は以下からDL可能。\n",
    "https://ja.osdn.net/projects/sfnet_magicvisionport/downloads/mvp/cascades/haarcascade_frontalface_alt.xml/"
   ]
  },
  {
   "cell_type": "code",
   "execution_count": null,
   "metadata": {},
   "outputs": [],
   "source": [
    "#有名なLennaさんの写真\n",
    "#coding:utf-8\n",
    "\n",
    "import numpy as np\n",
    "import cv2\n",
    "\n",
    "#顔探索用のカスケード型分類器を取得\n",
    "face_cascade = cv2.CascadeClassifier('haarcascade_frontalface_alt.xml')\n",
    "\n",
    "img = cv2.imread(\"Lenna.png\")\n",
    "result = cv2.imread(\"Lenna.png\")\n",
    "\n",
    "#読み込んだ画像をグレースケールに変換\n",
    "gray = cv2.cvtColor(img,cv2.COLOR_RGB2GRAY)\n",
    "\n",
    "#分類器で顔を認識する\n",
    "face = face_cascade.detectMultiScale(gray,1.3,5)\n",
    "\n",
    "if 0 < len(face):\n",
    "\n",
    "    print(\"get face\")\n",
    "\n",
    "    for (x,y,w,h) in face:\n",
    "\n",
    "        #顔の部分だけ切り抜いてモザイク処理をする\n",
    "        cut_img = img[y:y+h,x:x+w]\n",
    "        cut_face = cut_img.shape[:2][::-1]\n",
    "#        #10分の1にする\n",
    "#        cut_img = cv2.resize(cut_img,(cut_face[0]/10, cut_face[0]/10))\n",
    "#        #画像を元のサイズに拡大\n",
    "#        cut_img = cv2.resize(cut_img,cut_face,interpolation = cv2.cv.CV_INTER_NN)\n",
    "\n",
    "        #モザイク処理した部分を重ねる\n",
    "        result[y:y+h,x:x+w] = cut_img\n",
    "\n",
    "else:\n",
    "\n",
    "    print(\"no face\")\n",
    "\n",
    "\n",
    "cv2.imshow(\"face mosaic\",result)\n",
    "#cv2.imwrite(\"output file name\",result)\n",
    "cv2.waitKey(0)\n",
    "cv2.destroyAllWindows()"
   ]
  },
  {
   "cell_type": "markdown",
   "metadata": {},
   "source": [
    "<以下のシェルのコードで参考にしたサイト>\n",
    "https://www.blog.umentu.work/python-opencv3%E3%81%A7%E7%94%BB%E5%83%8F%E3%81%AE%E9%A1%94%E5%88%A4%E5%AE%9A%E3%83%8D%E3%82%BF%E3%81%82%E3%82%8A/"
   ]
  },
  {
   "cell_type": "code",
   "execution_count": null,
   "metadata": {},
   "outputs": [],
   "source": [
    "#徳川慶喜の写真\n",
    "#sourceディレクトリにface.pyを作成せよというのが元ネタだったが、書き換えた。\n",
    "\n",
    "# -*- coding: UTF-8 -*- \n",
    " \n",
    "import cv2\n",
    "import math\n",
    "import numpy as np\n",
    "import os\n",
    " \n",
    "#if __name__ == '__main__':\n",
    " \n",
    "# 顔判定で使うxmlファイルを指定する。顔探索用カスケード型分類器haarcascade_frontalface_alt.xml同じフォルダに置いた。\n",
    "#cascade = cv2.CascadeClassifier(\"/Users/goji/scraping_data/haarcascade_frontalface_alt.xml\")\n",
    "cascade = cv2.CascadeClassifier(\"/haarcascade_frontalface_alt.xml\")\n",
    " \n",
    "# 画像の読み込み。有名なLennaさんの写真使った。同じフォルダに置いた。\n",
    "#img_src = cv2.imread(\"Lenna.png\", 1)\n",
    "img_src = cv2.imread(\"yoshinobu.jpg\", 1)\n",
    " \n",
    "# 結果を保存するための変数を用意しておく。\n",
    "img_result = img_src\n",
    " \n",
    "# グレースケールに変換\n",
    "img_gray = cv2.cvtColor(img_src, cv2.COLOR_BGR2GRAY)\n",
    " \n",
    "#顔判定\n",
    "\"\"\" \n",
    "minSize で顔判定する際の最小の四角の大きさを指定できる。\n",
    "(小さい値を指定し過ぎると顔っぽい小さなシミのような部分も判定されてしまう。)\n",
    "\"\"\"\n",
    "faces  =  cascade.detectMultiScale(img_gray, scaleFactor=1.1, minNeighbors=1, minSize=(100, 100))\n",
    " \n",
    "# 顔があった場合\n",
    "if len(faces) > 0:\n",
    " \n",
    "#顔認識の枠の色\n",
    "    color = (255, 0, 0)\n",
    " \n",
    "# 複数の顔があった場合、１つずつ四角で囲っていく\n",
    "for face in faces:\n",
    " \n",
    "    # faceには(四角の左上のx座標, 四角の左上のy座標, 四角の横の長さ, 四角の縦の長さ) が格納されている。\n",
    " \n",
    "    # 囲う四角の左上の座標\n",
    "    coordinates = tuple(face[0:2])\n",
    "    # (囲う四角の横の長さ, 囲う四角の縦の長さ)\n",
    "    length = tuple(face[0:2] + face[2:4])\n",
    " \n",
    "    # 四角で囲う処理\n",
    "    cv2.rectangle(img_result, coordinates, length, color, thickness=3)\n",
    " \n",
    " \n",
    "    # 表示\n",
    "    cv2.imshow(\"Show FACES Image\", img_result)\n",
    "    cv2.waitKey(0)\n",
    "    cv2.destroyAllWindows()"
   ]
  },
  {
   "cell_type": "code",
   "execution_count": null,
   "metadata": {},
   "outputs": [],
   "source": [
    "#Lennaさんの写真\n",
    "# Opencv,Python,画像の顔認識ができない　https://teratail.com/questions/60018\n",
    "\n",
    "# -*- coding: utf-8 -*-\n",
    "\n",
    "import cv2\n",
    "\n",
    "cascade_path = \"haarcascade_frontalface_alt.xml\"\n",
    "\n",
    "#カスケード分類器の特徴量を取得する\n",
    "cascade = cv2.CascadeClassifier(cascade_path) \n",
    "\n",
    "img = cv2.imread('Lenna.png')\n",
    "\n",
    "# 顔を検知\n",
    "faces = cascade.detectMultiScale(img, minSize=(100,100))#miniサイズは追加\n",
    "for (x,y,w,h) in faces:\n",
    "    # 検知した顔を矩形で囲む\n",
    "    cv2.rectangle(img,(x,y),(x+w,y+h),(255,0,0),2)\n",
    "\n",
    "# 画像表示\n",
    "cv2.imshow('img',img)\n",
    "\n",
    "# 何かキーを押したら終了\n",
    "cv2.waitKey(0)\n",
    "cv2.destroyAllWindows()\n",
    "\n",
    "#　以下郷治追記\n"
   ]
  },
  {
   "cell_type": "markdown",
   "metadata": {
    "collapsed": true
   },
   "source": [
    "## 画像出力・保存\n",
    "\n",
    "http://rasp.hateblo.jp/entry/2016/01/22/201534\n",
    "PythonとOpenCVで画像処理①【読み込み、表示、保存】"
   ]
  },
  {
   "cell_type": "code",
   "execution_count": null,
   "metadata": {
    "collapsed": true
   },
   "outputs": [],
   "source": []
  }
 ],
 "metadata": {
  "anaconda-cloud": {},
  "kernelspec": {
   "display_name": "Python 3",
   "language": "python",
   "name": "python3"
  },
  "language_info": {
   "codemirror_mode": {
    "name": "ipython",
    "version": 3
   },
   "file_extension": ".py",
   "mimetype": "text/x-python",
   "name": "python",
   "nbconvert_exporter": "python",
   "pygments_lexer": "ipython3",
   "version": "3.5.2"
  }
 },
 "nbformat": 4,
 "nbformat_minor": 2
}
